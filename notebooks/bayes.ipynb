{
 "cells": [
  {
   "cell_type": "code",
   "execution_count": 1,
   "id": "2744ef1e",
   "metadata": {},
   "outputs": [],
   "source": [
    "import os\n",
    "import sys\n",
    "import copy\n",
    "pdir = os.path.dirname(os.getcwd())\n",
    "sys.path.append(pdir)\n",
    "\n",
    "import torch\n",
    "import numpy as np\n",
    "\n",
    "import utils\n",
    "import wandb\n",
    "\n",
    "model_dir = 'models'\n",
    "data_dir = 'tree_points.pt'"
   ]
  },
  {
   "cell_type": "code",
   "execution_count": 2,
   "id": "0b866444",
   "metadata": {},
   "outputs": [],
   "source": [
    "trees_data = torch.load(data_dir)"
   ]
  },
  {
   "cell_type": "code",
   "execution_count": 3,
   "id": "479fcee7",
   "metadata": {},
   "outputs": [],
   "source": [
    "sweep_config = {\n",
    "  \"name\":\"laser-trees-bayes\",\n",
    "  \"method\":\"bayes\",\n",
    "  \"metric\":{\n",
    "      \"name\":\"Best_acc\",\n",
    "      \"goal\":\"maximize\"\n",
    "  },\n",
    "  \"parameters\":{\n",
    "    \"loss_fn\":{\n",
    "      \"values\":[\"smooth-loss\", \"cross-entropy\"]\n",
    "    },\n",
    "    \"lr_init\":{\n",
    "      \"min\": 0.0001,\n",
    "      \"max\": 0.001\n",
    "    },\n",
    "    \"lr_step\":{\n",
    "      \"min\": 10,\n",
    "      \"max\": 100\n",
    "    },\n",
    "    \"lr_gamma\":{\n",
    "      \"min\": 0.1,\n",
    "      \"max\": 0.9\n",
    "    },\n",
    "    \"max_rotation\":{\n",
    "      \"min\":0.0,\n",
    "      \"max\":2*np.pi\n",
    "    },\n",
    "    \"max_translation\":{\n",
    "      \"min\":0.0,\n",
    "      \"max\":2.0\n",
    "    },\n",
    "    \"min_scale\":{\n",
    "      \"min\":0.3,\n",
    "      \"max\":1.0\n",
    "    },\n",
    "    \"max_scale\":{\n",
    "      \"min\":1.0,\n",
    "      \"max\":2.0\n",
    "    }\n",
    "  }\n",
    "}"
   ]
  },
  {
   "cell_type": "code",
   "execution_count": 4,
   "id": "0b739625",
   "metadata": {},
   "outputs": [],
   "source": [
    "def interface_to_train():\n",
    "    with wandb.init() as run:\n",
    "        params={\n",
    "        \"dataset_type\":type(trees_data),\n",
    "        \"batch_size\":128,\n",
    "        \"validation_split\":.15,\n",
    "        \"test_split\":.15,\n",
    "        \"shuffle_dataset\":True,\n",
    "        \"random_seed\":0,\n",
    "        \"learning_rate\":[wandb.config[\"lr_init\"], wandb.config[\"lr_step\"], wandb.config[\"lr_gamma\"]],  #[init, step_size, gamma] for scheduler\n",
    "        \"momentum\":0.9, #Only used for sgd\n",
    "        \"epochs\":150,\n",
    "        \"loss_fn\":wandb.config[\"loss_fn\"],\n",
    "        \"optimizer\":\"adam\",\n",
    "        \"voting\":\"None\",\n",
    "        \"train_sampler\":\"balanced\",\n",
    "\n",
    "        \"model\":\"SimpleView\",\n",
    "\n",
    "        \"image_dim\":256,\n",
    "        \"camera_fov_deg\":90,\n",
    "        \"f\":1,\n",
    "        \"camera_dist\":1.4,\n",
    "        \"depth_averaging\":\"min\",\n",
    "        \"soft_min_k\":50,\n",
    "        \"num_views\":6,\n",
    "\n",
    "        \"transforms\":['rotation','translation','scaling'], #,'translation'\n",
    "        \"min_rotation\":0,\n",
    "        \"max_rotation\":wandb.config[\"max_rotation\"],\n",
    "        \"min_translation\":0,\n",
    "        \"max_translation\":wandb.config[\"max_translation\"],\n",
    "        \"jitter_std\":0,\n",
    "        \"min_scale\":wandb.config[\"min_scale\"],\n",
    "        \"max_scale\":wandb.config[\"max_scale\"],\n",
    "\n",
    "        \"species\":[\"QUEFAG\", \"PINNIG\", \"QUEILE\", \"PINSYL\", \"PINPIN\"],\n",
    "        \"data_resolution\":\"2.5cm\"\n",
    "        }\n",
    "        \n",
    "        utils.train(data_dir=data_dir, model_dir=model_dir, params=params, init_wandb=False)\n",
    "    return"
   ]
  },
  {
   "cell_type": "code",
   "execution_count": 5,
   "id": "5e0cb4ee",
   "metadata": {},
   "outputs": [
    {
     "name": "stdout",
     "output_type": "stream",
     "text": [
      "Create sweep with ID: mjsa609h\n",
      "Sweep URL: https://wandb.ai/mja2106/laser-trees-bayes/sweeps/mjsa609h\n"
     ]
    },
    {
     "name": "stderr",
     "output_type": "stream",
     "text": [
      "\u001b[34m\u001b[1mwandb\u001b[0m: Agent Starting Run: 2305j66z with config:\n",
      "\u001b[34m\u001b[1mwandb\u001b[0m: \tloss_fn: smooth-loss\n",
      "\u001b[34m\u001b[1mwandb\u001b[0m: \tlr_gamma: 0.4831816409822419\n",
      "\u001b[34m\u001b[1mwandb\u001b[0m: \tlr_init: 0.0003470958352815794\n",
      "\u001b[34m\u001b[1mwandb\u001b[0m: \tlr_step: 97\n",
      "\u001b[34m\u001b[1mwandb\u001b[0m: \tmax_rotation: 2.9060673567660684\n",
      "\u001b[34m\u001b[1mwandb\u001b[0m: \tmax_scale: 1\n",
      "\u001b[34m\u001b[1mwandb\u001b[0m: \tmax_translation: 1\n",
      "\u001b[34m\u001b[1mwandb\u001b[0m: \tmin_scale: 0.3456991321340901\n",
      "\u001b[34m\u001b[1mwandb\u001b[0m: Currently logged in as: \u001b[33mmja2106\u001b[0m (use `wandb login --relogin` to force relogin)\n",
      "\u001b[34m\u001b[1mwandb\u001b[0m: wandb version 0.12.2 is available!  To upgrade, please run:\n",
      "\u001b[34m\u001b[1mwandb\u001b[0m:  $ pip install wandb --upgrade\n"
     ]
    },
    {
     "data": {
      "text/html": [
       "\n",
       "                Tracking run with wandb version 0.10.15<br/>\n",
       "                Syncing run <strong style=\"color:#cdcd00\">tough-sweep-1</strong> to <a href=\"https://wandb.ai\" target=\"_blank\">Weights & Biases</a> <a href=\"https://docs.wandb.com/integrations/jupyter.html\" target=\"_blank\">(Documentation)</a>.<br/>\n",
       "                Project page: <a href=\"https://wandb.ai/mja2106/laser-trees-bayes\" target=\"_blank\">https://wandb.ai/mja2106/laser-trees-bayes</a><br/>\n",
       "                Sweep page: <a href=\"https://wandb.ai/mja2106/laser-trees-bayes/sweeps/mjsa609h\" target=\"_blank\">https://wandb.ai/mja2106/laser-trees-bayes/sweeps/mjsa609h</a><br/>\n",
       "Run page: <a href=\"https://wandb.ai/mja2106/laser-trees-bayes/runs/2305j66z\" target=\"_blank\">https://wandb.ai/mja2106/laser-trees-bayes/runs/2305j66z</a><br/>\n",
       "                Run data is saved locally in <code>/home/matt/Work/MRes-Project/laser-trees/notebooks/wandb/run-20210921_153605-2305j66z</code><br/><br/>\n",
       "            "
      ],
      "text/plain": [
       "<IPython.core.display.HTML object>"
      ]
     },
     "metadata": {},
     "output_type": "display_data"
    },
    {
     "name": "stderr",
     "output_type": "stream",
     "text": [
      "\u001b[34m\u001b[1mwandb\u001b[0m: \u001b[33mWARNING\u001b[0m Config item 'loss_fn' was locked by 'sweep' (ignored update).\n",
      "\u001b[34m\u001b[1mwandb\u001b[0m: \u001b[33mWARNING\u001b[0m Config item 'max_rotation' was locked by 'sweep' (ignored update).\n",
      "\u001b[34m\u001b[1mwandb\u001b[0m: \u001b[33mWARNING\u001b[0m Config item 'max_translation' was locked by 'sweep' (ignored update).\n",
      "\u001b[34m\u001b[1mwandb\u001b[0m: \u001b[33mWARNING\u001b[0m Config item 'min_scale' was locked by 'sweep' (ignored update).\n",
      "\u001b[34m\u001b[1mwandb\u001b[0m: \u001b[33mWARNING\u001b[0m Config item 'max_scale' was locked by 'sweep' (ignored update).\n"
     ]
    },
    {
     "name": "stdout",
     "output_type": "stream",
     "text": [
      "QUEFAG     1116\n",
      "PINNIG      581\n",
      "QUEILE      364\n",
      "PINSYL      277\n",
      "PINPIN      140\n",
      "NA            2\n",
      "JUNIPE        2\n",
      "QUERCUS       2\n",
      "DEAD          1\n",
      "Name: sp, dtype: int64\n",
      "Species:  ['DEAD', 'JUNIPE', 'NA', 'PINNIG', 'PINPIN', 'PINSYL', 'QUEFAG', 'QUEILE', 'QUERCUS']\n",
      "Labels:  tensor([8, 3, 6,  ..., 7, 3, 6])\n",
      "Total count:  2485\n",
      "Removing: DEAD\n",
      "Removing: JUNIPE\n",
      "Removing: NA\n",
      "Removing: QUERCUS\n",
      "Train Dataset:\n",
      "QUEFAG    1116\n",
      "PINNIG     581\n",
      "QUEILE     364\n",
      "PINSYL     277\n",
      "PINPIN     140\n",
      "Name: sp, dtype: int64\n",
      "Species:  ['PINNIG', 'PINPIN', 'PINSYL', 'QUEFAG', 'QUEILE']\n",
      "Labels:  tensor([0, 3, 3,  ..., 4, 0, 3])\n",
      "Total count:  2478\n",
      "\n",
      "Validation Dataset (should match):\n",
      "QUEFAG    1116\n",
      "PINNIG     581\n",
      "QUEILE     364\n",
      "PINSYL     277\n",
      "PINPIN     140\n",
      "Name: sp, dtype: int64\n",
      "Species:  ['PINNIG', 'PINPIN', 'PINSYL', 'QUEFAG', 'QUEILE']\n",
      "Labels:  tensor([0, 3, 3,  ..., 4, 0, 3])\n",
      "Total count:  2478\n",
      "\n",
      "Shuffling dataset...\n",
      "Using balanced sampling...\n"
     ]
    },
    {
     "name": "stderr",
     "output_type": "stream",
     "text": [
      "\u001b[34m\u001b[1mwandb\u001b[0m: Ctrl + C detected. Stopping sweep.\n"
     ]
    },
    {
     "data": {
      "text/html": [
       "<br/>Waiting for W&B process to finish, PID 37771<br/>Program failed with code 1.  Press ctrl-c to abort syncing."
      ],
      "text/plain": [
       "<IPython.core.display.HTML object>"
      ]
     },
     "metadata": {},
     "output_type": "display_data"
    },
    {
     "data": {
      "application/vnd.jupyter.widget-view+json": {
       "model_id": "",
       "version_major": 2,
       "version_minor": 0
      },
      "text/plain": [
       "VBox(children=(Label(value=' 0.52MB of 0.52MB uploaded (0.00MB deduped)\\r'), FloatProgress(value=1.0, max=1.0)…"
      ]
     },
     "metadata": {},
     "output_type": "display_data"
    },
    {
     "data": {
      "text/html": [
       "Find user logs for this run at: <code>/home/matt/Work/MRes-Project/laser-trees/notebooks/wandb/run-20210921_153605-2305j66z/logs/debug.log</code>"
      ],
      "text/plain": [
       "<IPython.core.display.HTML object>"
      ]
     },
     "metadata": {},
     "output_type": "display_data"
    },
    {
     "data": {
      "text/html": [
       "Find internal logs for this run at: <code>/home/matt/Work/MRes-Project/laser-trees/notebooks/wandb/run-20210921_153605-2305j66z/logs/debug-internal.log</code>"
      ],
      "text/plain": [
       "<IPython.core.display.HTML object>"
      ]
     },
     "metadata": {},
     "output_type": "display_data"
    },
    {
     "data": {
      "text/html": [
       "Synced 6 W&B file(s), 0 media file(s), 0 artifact file(s) and 2 other file(s)"
      ],
      "text/plain": [
       "<IPython.core.display.HTML object>"
      ]
     },
     "metadata": {},
     "output_type": "display_data"
    },
    {
     "data": {
      "text/html": [
       "\n",
       "                    <br/>Synced <strong style=\"color:#cdcd00\">tough-sweep-1</strong>: <a href=\"https://wandb.ai/mja2106/laser-trees-bayes/runs/2305j66z\" target=\"_blank\">https://wandb.ai/mja2106/laser-trees-bayes/runs/2305j66z</a><br/>\n",
       "                "
      ],
      "text/plain": [
       "<IPython.core.display.HTML object>"
      ]
     },
     "metadata": {},
     "output_type": "display_data"
    }
   ],
   "source": [
    "sweep_id = 'mjsa609h'\n",
    "#sweep_id = wandb.sweep(sweep_config, project='laser-trees-bayes')\n",
    "\n",
    "count = 3\n",
    "wandb.agent(sweep_id, project='laser-trees-bayes', function=interface_to_train, count=count)"
   ]
  },
  {
   "cell_type": "code",
   "execution_count": null,
   "id": "d1c56ad9-5b1b-4a83-91af-ded9a94b23f9",
   "metadata": {},
   "outputs": [],
   "source": []
  }
 ],
 "metadata": {
  "kernelspec": {
   "display_name": "Python 3 (ipykernel)",
   "language": "python",
   "name": "python3"
  },
  "language_info": {
   "codemirror_mode": {
    "name": "ipython",
    "version": 3
   },
   "file_extension": ".py",
   "mimetype": "text/x-python",
   "name": "python",
   "nbconvert_exporter": "python",
   "pygments_lexer": "ipython3",
   "version": "3.8.5"
  }
 },
 "nbformat": 4,
 "nbformat_minor": 5
}
