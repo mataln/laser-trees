{
 "cells": [
  {
   "cell_type": "code",
   "execution_count": 1,
   "id": "3ac912f9",
   "metadata": {},
   "outputs": [],
   "source": [
    "import os\n",
    "import sys\n",
    "pdir = os.path.dirname(os.getcwd())\n",
    "sys.path.append(pdir)\n",
    "\n",
    "import numpy as np\n",
    "import torch\n",
    "import pandas as pd\n",
    "from tqdm import tqdm\n",
    "from torch.utils.data import Dataset, DataLoader\n",
    "\n",
    "import utils\n",
    "from simpleview_pytorch import SimpleView"
   ]
  },
  {
   "cell_type": "markdown",
   "id": "2fcdd38b",
   "metadata": {},
   "source": [
    "### Load the data:"
   ]
  },
  {
   "cell_type": "code",
   "execution_count": 3,
   "id": "82c790a6",
   "metadata": {},
   "outputs": [
    {
     "name": "stdout",
     "output_type": "stream",
     "text": [
      "QUEFAG     1116\n",
      "PINNIG      581\n",
      "QUEILE      364\n",
      "PINSYL      277\n",
      "PINPIN      140\n",
      "JUNIPE        2\n",
      "NA            2\n",
      "QUERCUS       2\n",
      "DEAD          1\n",
      "Name: sp, dtype: int64\n",
      "Species:  ['DEAD', 'JUNIPE', 'NA', 'PINNIG', 'PINPIN', 'PINSYL', 'QUEFAG', 'QUEILE', 'QUERCUS']\n",
      "Labels:  tensor([8, 3, 6,  ..., 7, 3, 6], dtype=torch.int32)\n",
      "Total count:  2485\n"
     ]
    }
   ],
   "source": [
    "trees_data = torch.load('trees_new.pt')\n",
    "print(trees_data.counts)\n",
    "print('Species: ', trees_data.species)\n",
    "print('Labels: ', trees_data.labels)\n",
    "print('Total count: ', len(trees_data))"
   ]
  },
  {
   "cell_type": "markdown",
   "id": "5d95f43d",
   "metadata": {},
   "source": [
    "##### Remove low-count species:"
   ]
  },
  {
   "cell_type": "code",
   "execution_count": 4,
   "id": "6a9b332e",
   "metadata": {},
   "outputs": [
    {
     "name": "stdout",
     "output_type": "stream",
     "text": [
      "[0, 1, None, 2, 3, 4, 5, 6, 7]\n",
      "QUEFAG     1116\n",
      "PINNIG      581\n",
      "QUEILE      364\n",
      "PINSYL      277\n",
      "PINPIN      140\n",
      "JUNIPE        2\n",
      "QUERCUS       2\n",
      "DEAD          1\n",
      "Name: sp, dtype: int64\n",
      "Species:  ['DEAD', 'JUNIPE', 'PINNIG', 'PINPIN', 'PINSYL', 'QUEFAG', 'QUEILE', 'QUERCUS']\n",
      "Labels:  tensor([7, 2, 5,  ..., 6, 2, 5], dtype=torch.int32)\n",
      "Total count:  2483\n"
     ]
    }
   ],
   "source": [
    "for specie in ['NA', 'QUERCUS', 'JUNIPE', 'DEAD']:\n",
    "    trees_data.remove_species(specie)\n",
    "    \n",
    "print(trees_data.counts)\n",
    "print('Species: ', trees_data.species)\n",
    "print('Labels: ', trees_data.labels)\n",
    "print('Total count: ', len(trees_data))"
   ]
  },
  {
   "cell_type": "markdown",
   "id": "d6aaa740",
   "metadata": {},
   "source": [
    "### Update old object to new class (no longer needed):"
   ]
  },
  {
   "cell_type": "code",
   "execution_count": 2,
   "id": "256031ca",
   "metadata": {},
   "outputs": [],
   "source": [
    "metadata_file = \"../data/treesXYZ/meta/META.csv\"\n",
    "data_dir = \"../data/treesXYZ/\"\n",
    "trees_new = utils.TreeSpeciesDataset(data_dir, metadata_file)\n",
    "\n",
    "trees_old=torch.load('trees_old.pt')\n",
    "\n",
    "trees_new.depth_images = trees_old.depth_images\n",
    "trees_new.labels = trees_old.labels.int()\n",
    "\n",
    "torch.save(trees_new, 'trees_new.pt')"
   ]
  },
  {
   "cell_type": "code",
   "execution_count": null,
   "id": "f6f4e3dd",
   "metadata": {},
   "outputs": [],
   "source": []
  }
 ],
 "metadata": {
  "kernelspec": {
   "display_name": "Python 3",
   "language": "python",
   "name": "python3"
  },
  "language_info": {
   "codemirror_mode": {
    "name": "ipython",
    "version": 3
   },
   "file_extension": ".py",
   "mimetype": "text/x-python",
   "name": "python",
   "nbconvert_exporter": "python",
   "pygments_lexer": "ipython3",
   "version": "3.8.5"
  }
 },
 "nbformat": 4,
 "nbformat_minor": 5
}
