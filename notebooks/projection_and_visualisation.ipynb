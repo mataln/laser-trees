{
 "cells": [
  {
   "cell_type": "markdown",
   "metadata": {},
   "source": [
    "Import dependencies:"
   ]
  },
  {
   "cell_type": "code",
   "execution_count": 1,
   "metadata": {},
   "outputs": [],
   "source": [
    "import os\n",
    "import numpy as np\n",
    "from matplotlib import pyplot as plt\n",
    "\n",
    "from scipy.spatial.transform import Rotation as R\n",
    "#from mpl_toolkits.mplot3d import axes3d"
   ]
  },
  {
   "cell_type": "code",
   "execution_count": 2,
   "metadata": {},
   "outputs": [],
   "source": [
    "%matplotlib widget"
   ]
  },
  {
   "cell_type": "markdown",
   "metadata": {},
   "source": [
    "Load a point cloud from a .txt file:"
   ]
  },
  {
   "cell_type": "code",
   "execution_count": 3,
   "metadata": {},
   "outputs": [],
   "source": [
    "def pc_from_txt(filename):\n",
    "    \"\"\"\n",
    "    Loads a point cloud from a .txt file\n",
    "    \n",
    "    Parameters:\n",
    "    filename:string - location for the .txt file\n",
    "    \n",
    "    Returns:\n",
    "    point_cloud - nx3 numpy array of point cloud data\n",
    "    \"\"\"\n",
    "    point_cloud = np.loadtxt(filename)\n",
    "    return point_cloud"
   ]
  },
  {
   "cell_type": "markdown",
   "metadata": {},
   "source": [
    "Plot a point cloud with matplotlib. Random downsampling to make the plot load faster:"
   ]
  },
  {
   "cell_type": "code",
   "execution_count": 4,
   "metadata": {},
   "outputs": [],
   "source": [
    "def plot_downsample(point_cloud, sample_fraction = 0.1, random_seed=0, figsize=(10,10), is_scaled = True):\n",
    "    \"\"\"\n",
    "    Plots a 3D point cloud using matplotlib\n",
    "    \n",
    "    Parameters:\n",
    "    point_cloud - nx3 numpy array of the points to plot\n",
    "    sample_fraction - downsampling fraction (float)\n",
    "    random_seed - rng seed\n",
    "    figsize - self explanatory (tuple)\n",
    "    \n",
    "    Returns:\n",
    "    figure, axes for the plot\n",
    "    \"\"\"\n",
    "    np.random.seed(random_seed)\n",
    "\n",
    "    idx = np.random.randint(point_cloud.shape[0], size=int(point_cloud.shape[0]*sample_fraction))\n",
    "    \n",
    "    plot_points = point_cloud[idx,:]\n",
    "    \n",
    "    fig, ax = plt.subplots(figsize=figsize)\n",
    "    ax = plt.axes(projection='3d')\n",
    "    ax.set_xlabel('x')\n",
    "    ax.set_ylabel('y')\n",
    "    ax.set_zlabel('z')\n",
    "    \n",
    "    if is_scaled:\n",
    "        ax.set_xlim((-1,1))\n",
    "        ax.set_ylim((-1,1))\n",
    "        ax.set_zlim((-1,1))\n",
    "    \n",
    "    ax.scatter(plot_points[:,0], plot_points[:,1], plot_points[:,2], marker='.')\n",
    "    \n",
    "    return fig, ax"
   ]
  },
  {
   "cell_type": "markdown",
   "metadata": {},
   "source": [
    "Rescale and center the point clouds:"
   ]
  },
  {
   "cell_type": "code",
   "execution_count": 5,
   "metadata": {},
   "outputs": [],
   "source": [
    "def center_and_scale(point_cloud):\n",
    "    \"\"\"\n",
    "    Recenters a point cloud to the origin and\n",
    "    scales to [-1,1]^3\n",
    "    \n",
    "    Parameters:\n",
    "    point_cloud - nx3 numpy array of points\n",
    "    \n",
    "    Returns\n",
    "    scaled_cloud - centered and scaled point cloud\n",
    "    \"\"\"\n",
    "    centered_cloud = point_cloud-np.mean(point_cloud, axis=0)\n",
    "    return centered_cloud/np.max(centered_cloud)"
   ]
  },
  {
   "cell_type": "code",
   "execution_count": 109,
   "metadata": {},
   "outputs": [],
   "source": [
    "point_cloud = pc_from_txt('../data/treesXYZ/alt01_21.txt')"
   ]
  },
  {
   "cell_type": "code",
   "execution_count": 110,
   "metadata": {},
   "outputs": [],
   "source": [
    "scaled_cloud = center_and_scale(point_cloud)"
   ]
  },
  {
   "cell_type": "code",
   "execution_count": 111,
   "metadata": {},
   "outputs": [
    {
     "data": {
      "application/vnd.jupyter.widget-view+json": {
       "model_id": "50eae5a110d049e8be2616a3b9f62328",
       "version_major": 2,
       "version_minor": 0
      },
      "text/plain": [
       "Canvas(toolbar=Toolbar(toolitems=[('Home', 'Reset original view', 'home', 'home'), ('Back', 'Back to previous …"
      ]
     },
     "metadata": {},
     "output_type": "display_data"
    }
   ],
   "source": [
    "%matplotlib widget\n",
    "fig, ax = plot_downsample(scaled_cloud, sample_fraction=0.1, figsize = (5,5))"
   ]
  },
  {
   "cell_type": "markdown",
   "metadata": {},
   "source": [
    "Perspective depth projection:"
   ]
  },
  {
   "cell_type": "code",
   "execution_count": 112,
   "metadata": {},
   "outputs": [],
   "source": [
    "def project_point(point, camera_projection, f=1):\n",
    "    \"\"\"\n",
    "    Perspective projection of a single point on to image plane.\n",
    "    \n",
    "    Parameters:\n",
    "    point - 3D point to be projected as numpy array, in real world coordinates - Dimension 4 NOT 1x4 \n",
    "    camera_projection - 4x4 camera projection matrix as numpy array:\n",
    "                        x_camera_tilde = camera_projection * x_world_tilde (with x as col. vectors)\n",
    "                        camera_transform = r11 r12 r13 Tx\n",
    "                                           r21 r22 r23 Ty\n",
    "                                           r31 r32 r33 Tz \n",
    "                                           0   0   0   1\n",
    "                                           \n",
    "    f - distance from camera to image plane. Default=1\n",
    "\n",
    "    Returns\n",
    "    projected_point - projected coordinates in image plane - real world coordinates\n",
    "    depth - depth of projected point (from camera)\n",
    "    \n",
    "    _tilde denotes homegeneous coordinates\n",
    "    \"\"\" \n",
    "    \n",
    "    x_world_tilde = np.append(point, 1)\n",
    "    \n",
    "    #x_world_tilde = np.array([x_world_tilde]).transpose()\n",
    "    x_camera_tilde = np.matmul(camera_projection, x_world_tilde)\n",
    "    \n",
    "\n",
    "    \n",
    "    perspective_projection = np.array([\n",
    "                            [f, 0, 0, 0],\n",
    "                            [0, f, 0, 0],\n",
    "                            [0, 0, 1, 0],\n",
    "                            ])\n",
    "    \n",
    "    x_image_tilde = np.matmul(perspective_projection, x_camera_tilde)\n",
    "    \n",
    "    #print(x_image_tilde)\n",
    "    \n",
    "    x_image = np.array([x_image_tilde[0]/x_image_tilde[2], x_image_tilde[1]/x_image_tilde[2]])\n",
    "    \n",
    "    return x_image, x_camera_tilde[2]\n",
    "\n",
    "def project_points(points, camera_projection, f=1):\n",
    "    \"\"\"\n",
    "    Projects a list/numpy array of points in one go\n",
    "    \"\"\"\n",
    "    projected_points_depths = [project_point(point, camera_projection, f) for point in points]\n",
    "    projected_points = np.array([x[0] for x in projected_points_depths])\n",
    "    projected_depths = np.array([x[1] for x in projected_points_depths])\n",
    "    \n",
    "    return projected_points, projected_depths\n",
    "\n",
    "def get_rotation_matrix(a, b):\n",
    "    \"\"\"\n",
    "    Gets rotation matrix to rotate vector a onto vector b\n",
    "    \"\"\"\n",
    "    a = np.array([a/np.linalg.norm(a)]).transpose()\n",
    "    b = np.array([b/np.linalg.norm(b)]).transpose()\n",
    "\n",
    "    #Rodriguez rotation formula - rotate abt k = (a+b)/2 by pi\n",
    "    ab = a + b\n",
    "    R = 2*np.matmul(ab, ab.transpose())/np.matmul(ab.transpose(), ab) - np.eye(3)\n",
    "    \n",
    "    return R\n",
    "    \n",
    "\n",
    "def get_camera_projection(camera_position, camera_z_direction, camera_x_direction):\n",
    "    \"\"\"\n",
    "    Gets the camera projection matrix from the position and orientation of the camera\n",
    "    \n",
    "    Parameters:\n",
    "    camera_position - self explanatory (length 3 vector)\n",
    "    camera_z_direction - optical axis of the camera (length 3 vector)\n",
    "    \n",
    "    Note - this deals really badly with 180 degree rotations so I've basically abandoned it.\n",
    "    \"\"\"\n",
    "    assert np.dot(camera_z_direction, camera_x_direction) == 0\n",
    "    \n",
    "    camera_z_direction = np.array(camera_z_direction)\n",
    "    camera_z_direction = camera_z_direction/np.linalg.norm(camera_z_direction)\n",
    "    \n",
    "    camera_x_direction = np.array(camera_x_direction)\n",
    "    camera_x_direction = camera_x_direction/np.linalg.norm(camera_x_direction)\n",
    "    \n",
    "    T = np.array(np.array([camera_position])).transpose()\n",
    "    s = np.array([[0,0,0,1]])\n",
    "\n",
    "    a = np.array([0, 0, 1])\n",
    "    R1 = get_rotation_matrix(a, camera_z_direction)\n",
    "    \n",
    "    new_x_dir = np.matmul(R1, np.array([1,0,0]))\n",
    "    R2 = get_rotation_matrix(new_x_dir, camera_x_direction)\n",
    "    \n",
    "    R = np.matmul(R2, R1)\n",
    "    \n",
    "    #Stack R,T, s into camera projection matrix\n",
    "    print(T.shape)\n",
    "    pr = np.hstack((R,T))\n",
    "\n",
    "    pr = np.vstack((pr, s))\n",
    "    \n",
    "    return pr\n",
    "    \n",
    "\n",
    "def depth_image_from_projection(points, depths, camera_fov_deg=90, image_dim=128):\n",
    "    \"\"\"\n",
    "    Plots a depth image from perspective projected points\n",
    "    \n",
    "    Parameters:\n",
    "    points - nx2 numpy array of projected points\n",
    "    depths - corresponding point depths from camera\n",
    "    camera_fov_deg - camera FOV in degrees\n",
    "    \"\"\"\n",
    "    \n",
    "    #The maximum projected image coordinate based on camera FOV\n",
    "    max_value = np.tan(np.radians(camera_fov_deg/2))\n",
    "    print(max_value)\n",
    "    \n",
    "    points = points + max_value #Change range from -max->max to 0->2*max\n",
    "    pixel_coords = [ [round(x[0]/(2*max_value) * image_dim), round(x[1]/(2*max_value) * image_dim)] for x in points]\n",
    "    \n",
    "    image = np.zeros(shape=(image_dim, image_dim))\n",
    "    \n",
    "    for coord, depth in zip(pixel_coords, depths):\n",
    "        i, j = coord[1], coord[0]\n",
    "        if (0 <= i < image_dim) and (0 <= j < image_dim): #If not outside the FOV\n",
    "            if not(image[i, j]):\n",
    "                image[i, j] = depth\n",
    "            elif depth < image[i, j]: #If there's something else there\n",
    "                image[i, j] = depth\n",
    "                    \n",
    "    #min_val = np.min(image)                \n",
    "    #print(min_val)                \n",
    "        \n",
    "    #image[np.isclose(image, 0, atol=1e-15)==True] = min_val\n",
    "    \n",
    "    return image\n",
    "\n",
    "def plot_depth_image(depth_image):\n",
    "    fig, ax = plot.subplots(figsize=(5,5))"
   ]
  },
  {
   "cell_type": "code",
   "execution_count": 113,
   "metadata": {},
   "outputs": [
    {
     "data": {
      "text/plain": [
       "(array([0.71428571, 0.71428571]), 1.4)"
      ]
     },
     "execution_count": 113,
     "metadata": {},
     "output_type": "execute_result"
    }
   ],
   "source": [
    "camera_projection = np.array([\n",
    "    [1, 0, 0, 0],\n",
    "    [0, 0, 1, 0],\n",
    "    [0, 1, 0, 1.4],\n",
    "    [0, 0, 0, 1]\n",
    "])\n",
    "\n",
    "proj_points, depths = project_points(scaled_cloud, camera_projection)\n",
    "project_point([1,0,1], camera_projection)"
   ]
  },
  {
   "cell_type": "code",
   "execution_count": 114,
   "metadata": {},
   "outputs": [
    {
     "data": {
      "text/plain": [
       "<matplotlib.collections.PathCollection at 0x7f93a2f06e80>"
      ]
     },
     "execution_count": 114,
     "metadata": {},
     "output_type": "execute_result"
    },
    {
     "data": {
      "image/png": "[encoded data removed]",
      "text/plain": [
       "<Figure size 432x288 with 1 Axes>"
      ]
     },
     "metadata": {
      "needs_background": "light"
     },
     "output_type": "display_data"
    }
   ],
   "source": [
    "%matplotlib inline\n",
    "figScatter, axScatter = plt.subplots()\n",
    "axScatter.scatter(proj_points[:,0], proj_points[:,1])"
   ]
  },
  {
   "cell_type": "code",
   "execution_count": 115,
   "metadata": {},
   "outputs": [
    {
     "name": "stdout",
     "output_type": "stream",
     "text": [
      "0.9999999999999999\n"
     ]
    },
    {
     "data": {
      "image/png": "[encoded data removed]",
      "text/plain": [
       "<Figure size 432x288 with 1 Axes>"
      ]
     },
     "metadata": {
      "needs_background": "light"
     },
     "output_type": "display_data"
    }
   ],
   "source": [
    "%matplotlib inline\n",
    "img = depth_image_from_projection(proj_points, depths, camera_fov_deg = 90)\n",
    "depthimg = plt.imshow(img, origin='lower')"
   ]
  },
  {
   "cell_type": "code",
   "execution_count": 116,
   "metadata": {},
   "outputs": [],
   "source": [
    "##Camera projections - all checked on alt_01_18.txt\n",
    "\n",
    "#Front to back\n",
    "camera_projection = np.array([\n",
    "    [1, 0, 0, 0],\n",
    "    [0, 0, 1, 0],\n",
    "    [0, 1, 0, 1.4],\n",
    "    [0, 0, 0, 1]\n",
    "])\n",
    "\n",
    "#Back to front\n",
    "camera_projection = np.array([\n",
    "    [-1, 0, 0, 0],\n",
    "    [0, 0, 1, 0],\n",
    "    [0, -1, 0, 1.4],\n",
    "    [0, 0, 0, 1]\n",
    "])\n",
    "\n",
    "#Bottom up\n",
    "camera_projection = np.array([\n",
    "    [1, 0, 0, 0],\n",
    "    [0, 1, 0, 0],\n",
    "    [0, 0, 1, 1.4],\n",
    "    [0, 0, 0, 1]\n",
    "])\n",
    "\n",
    "#Top down\n",
    "camera_projection = np.array([\n",
    "    [1, 0, 0, 0],\n",
    "    [0, 1, 0, 0],\n",
    "    [0, 0, -1, 1.4],\n",
    "    [0, 0, 0, 1]\n",
    "])\n",
    "\n",
    "#Left to right\n",
    "camera_projection = np.array([\n",
    "    [0, -1, 0, 0],\n",
    "    [0, 0, 1, 0],\n",
    "    [1, 0, 0, 1.4],\n",
    "    [0, 0, 0, 1]\n",
    "])\n",
    "\n",
    "#Right to left\n",
    "camera_projection = np.array([\n",
    "    [0, 1, 0, 0],\n",
    "    [0, 0, 1, 0],\n",
    "    [-1, 0, 0, 1.4],\n",
    "    [0, 0, 0, 1]\n",
    "])"
   ]
  },
  {
   "cell_type": "code",
   "execution_count": null,
   "metadata": {},
   "outputs": [],
   "source": []
  }
 ],
 "metadata": {
  "kernelspec": {
   "display_name": "Python 3",
   "language": "python",
   "name": "python3"
  },
  "language_info": {
   "codemirror_mode": {
    "name": "ipython",
    "version": 3
   },
   "file_extension": ".py",
   "mimetype": "text/x-python",
   "name": "python",
   "nbconvert_exporter": "python",
   "pygments_lexer": "ipython3",
   "version": "3.8.5"
  }
 },
 "nbformat": 4,
 "nbformat_minor": 4
}
