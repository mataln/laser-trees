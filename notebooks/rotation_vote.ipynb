{
 "cells": [
  {
   "cell_type": "code",
   "execution_count": 2,
   "id": "a8a7f15f",
   "metadata": {},
   "outputs": [],
   "source": [
    "import os\n",
    "import sys\n",
    "import copy\n",
    "pdir = os.path.dirname(os.getcwd())\n",
    "sys.path.append(pdir)\n",
    "\n",
    "import numpy as np\n",
    "import torch\n",
    "import torch.nn as nn\n",
    "import torch.optim as optim\n",
    "import pandas as pd\n",
    "import wandb\n",
    "import random\n",
    "import seaborn as sns\n",
    "sns.set(rc={'text.usetex' : True})\n",
    "\n",
    "import matplotlib.pyplot as plt\n",
    "plt.rc('text', usetex=True)\n",
    "\n",
    "from tqdm import tqdm\n",
    "from torch.utils.data import Dataset, DataLoader\n",
    "from torch.utils.data.sampler import SubsetRandomSampler, WeightedRandomSampler\n",
    "from torch.optim.lr_scheduler import StepLR\n",
    "\n",
    "from sklearn.metrics import confusion_matrix, accuracy_score\n",
    "\n",
    "import utils\n",
    "from simpleview_pytorch import SimpleView\n",
    "\n",
    "from torch.utils.data.dataset import Dataset\n",
    "#foo"
   ]
  },
  {
   "cell_type": "code",
   "execution_count": 3,
   "id": "079298ac",
   "metadata": {},
   "outputs": [],
   "source": [
    "dataset_dir = 'tree_points.pt'\n",
    "model_dir = 'models/1ru3sr8i'\n",
    "model_dir_b = model_dir + \"_best\"\n",
    "model_dir_c = model_dir + \"_converged\"\n",
    "model_dir_p = model_dir + \"_best_prod\""
   ]
  },
  {
   "cell_type": "code",
   "execution_count": null,
   "id": "06ac3656",
   "metadata": {},
   "outputs": [
    {
     "name": "stdout",
     "output_type": "stream",
     "text": [
      "Removing: DEAD\n",
      "Removing: JUNIPE\n",
      "Removing: QUERCUS\n",
      "Removing: NA\n",
      "Removing: DEAD\n",
      "Removing: JUNIPE\n",
      "Removing: QUERCUS\n",
      "Removing: NA\n"
     ]
    }
   ],
   "source": [
    "logits_b, labels_b, predictions_b, val_species = utils.predict_from_dirs(dataset_dir, model_dir_b)\n",
    "logits_c, labels_c, predictions_c, val_species = utils.predict_from_dirs(dataset_dir, model_dir_c)\n",
    "logits_p, labels_p, predictions_p, val_species = utils.predict_from_dirs(dataset_dir, model_dir_p)"
   ]
  },
  {
   "cell_type": "code",
   "execution_count": null,
   "id": "83baf6e8",
   "metadata": {},
   "outputs": [],
   "source": [
    "fig, ax = plt.subplots(1,3, figsize=(30,9))\n",
    "\n",
    "tickFont = 20\n",
    "axFont = 36\n",
    "annotFont = 24\n",
    "\n",
    "print(val_species)\n",
    "val_species = ['P. Nigra', 'P. Pinaster', 'P. Sylvestris', 'Q. Faginea', 'Q. Ilex']\n",
    "\n",
    "cm1 = confusion_matrix(labels_b.cpu(), predictions_b.cpu(), normalize='true')\n",
    "hm1 = sns.heatmap(cm1, annot=True, ax=ax[0], cbar=False, annot_kws={\"fontsize\":annotFont})\n",
    "hm1.set_xticklabels(val_species, fontsize=tickFont)\n",
    "ax[0].set_yticklabels(val_species, fontsize=tickFont)\n",
    "hm1.set_ylabel('True Labels', fontsize=axFont+2)\n",
    "hm1.set_xlabel('Predictions - Best Overall Model', fontsize=axFont)\n",
    "\n",
    "\n",
    "cm2 = confusion_matrix(labels_c.cpu(), predictions_c.cpu(), normalize='true')\n",
    "hm2 = sns.heatmap(cm2, annot=True, ax=ax[1], cbar=False, annot_kws={\"fontsize\":annotFont})\n",
    "hm2.set_xticklabels(val_species, fontsize=tickFont)\n",
    "hm2.set_yticklabels(val_species, fontsize=tickFont)\n",
    "hm2.set_ylabel('', fontsize=axFont)\n",
    "hm2.set_xlabel('Predictions - Best Converged Model', fontsize=axFont)\n",
    "\n",
    "cm3 = confusion_matrix(labels_p.cpu(), predictions_p.cpu(), normalize='true')\n",
    "hm3 = sns.heatmap(cm3, annot=True, ax=ax[2], cbar=False, annot_kws={\"fontsize\":annotFont})\n",
    "hm3.set_xticklabels(val_species, fontsize=tickFont)\n",
    "hm3.set_yticklabels(val_species, fontsize=tickFont)\n",
    "hm3.set_ylabel('', fontsize=axFont)\n",
    "hm3.set_xlabel('Predictions - Best Producer Accuracy', fontsize=axFont)\n",
    "\n",
    "for ax in fig.axes:\n",
    "    plt.sca(ax)\n",
    "    plt.yticks(rotation=90)\n",
    "\n",
    "fig.savefig('baseline.png', bbox_inches='tight')"
   ]
  },
  {
   "cell_type": "markdown",
   "id": "7fa5377a",
   "metadata": {},
   "source": [
    "# Rotation Voting ==========="
   ]
  },
  {
   "cell_type": "markdown",
   "id": "8b882a1a",
   "metadata": {},
   "source": [
    "## Sweep"
   ]
  },
  {
   "cell_type": "code",
   "execution_count": 7,
   "id": "b17694ea",
   "metadata": {},
   "outputs": [
    {
     "name": "stdout",
     "output_type": "stream",
     "text": [
      "best_64\n",
      "Removing: NA\n",
      "Removing: DEAD\n",
      "Removing: JUNIPE\n",
      "Removing: QUERCUS\n"
     ]
    }
   ],
   "source": [
    "accuracies = {}\n",
    "rotations = [64]\n",
    "max_rotation = 0.5*np.pi\n",
    "\n",
    "for model in [\"best\"]:\n",
    "    accuracies[model] = {\"soft\":[],\"hard\":[]}\n",
    "    for num_rotations in rotations:\n",
    "        print(f\"{model}_{num_rotations}\")\n",
    "        soft_predictions, hard_predictions, labels, species = utils.rot_vot_from_dirs(dataset_dir,\n",
    "                                                                               model_dir=f\"{model_dir}_{model}\",\n",
    "                                                                               num_rotations=num_rotations,\n",
    "                                                                               max_rotation=max_rotation)\n",
    "        accuracies[model][\"soft\"].append(accuracy_score(labels.cpu(), soft_predictions.cpu()))\n",
    "        accuracies[model][\"hard\"].append(accuracy_score(labels.cpu(), hard_predictions.cpu()))\n",
    "\n",
    "if None:\n",
    "    with open(f'rot_{max_rotation:.2f}_acc.pickle', 'wb') as handle:\n",
    "        pickle.dump(accuracies, handle, protocol=pickle.HIGHEST_PROTOCOL)"
   ]
  },
  {
   "cell_type": "code",
   "execution_count": 11,
   "id": "481700a1",
   "metadata": {},
   "outputs": [
    {
     "name": "stdout",
     "output_type": "stream",
     "text": [
      "['P. Nigra', 'P. Pinaster', 'P. Sylvestris', 'Q. Faginea', 'Q. Ilex']\n"
     ]
    },
    {
     "data": {
      "text/plain": [
       "Text(0.5, 57.75875865893524, 'Predictions - Best Overall w/ 64 Hard Rotation Votes')"
      ]
     },
     "execution_count": 11,
     "metadata": {},
     "output_type": "execute_result"
    },
    {
     "data": {
      "image/png": "[encoded data removed]",
      "text/plain": [
       "<Figure size 720x648 with 1 Axes>"
      ]
     },
     "metadata": {},
     "output_type": "display_data"
    }
   ],
   "source": [
    "fig_rot, ax_rot = plt.subplots(figsize=(10,9))\n",
    "\n",
    "tickFont = 20\n",
    "axFont = 36\n",
    "annotFont = 24\n",
    "\n",
    "print(val_species)\n",
    "val_species = ['P. Nigra', 'P. Pinaster', 'P. Sylvestris', 'Q. Faginea', 'Q. Ilex']\n",
    "\n",
    "cm_rot = confusion_matrix(labels.cpu(), hard_predictions.cpu(), normalize='true')\n",
    "hm_rot = sns.heatmap(cm_rot, annot=True, ax=ax_rot, cbar=False, annot_kws={\"fontsize\":annotFont})\n",
    "hm_rot.set_xticklabels(val_species, fontsize=tickFont)\n",
    "ax_rot.set_yticklabels(val_species, fontsize=tickFont)\n",
    "hm_rot.set_ylabel('True Labels', fontsize=axFont+2)\n",
    "hm_rot.set_xlabel('Predictions - Best Overall w/ 64 Hard Rotation Votes', fontsize=axFont-12)"
   ]
  },
  {
   "cell_type": "code",
   "execution_count": 12,
   "id": "8582fdb6",
   "metadata": {},
   "outputs": [],
   "source": [
    "accuracies_tmp = {'best': {'soft': [0.8303030303030303,\n",
    "   0.8363636363636363,\n",
    "   0.8383838383838383,\n",
    "   0.8464646464646465,\n",
    "   0.8444444444444444,\n",
    "   0.8444444444444444,\n",
    "   0.8464646464646465],\n",
    "  'hard': [0.8303030303030303,\n",
    "   0.8262626262626263,\n",
    "   0.8222222222222222,\n",
    "   0.8444444444444444,\n",
    "   0.8464646464646465,\n",
    "   0.8464646464646465,\n",
    "   0.8484848484848485]},\n",
    " 'converged': {'soft': [0.8101010101010101,\n",
    "   0.8121212121212121,\n",
    "   0.8101010101010101,\n",
    "   0.8121212121212121,\n",
    "   0.8181818181818182,\n",
    "   0.8161616161616162,\n",
    "   0.8161616161616162],\n",
    "  'hard': [0.8101010101010101,\n",
    "   0.806060606060606,\n",
    "   0.8121212121212121,\n",
    "   0.8181818181818182,\n",
    "   0.8141414141414142,\n",
    "   0.8181818181818182,\n",
    "   0.8181818181818182]},\n",
    " 'best_prod': {'soft': [0.8222222222222222,\n",
    "   0.8121212121212121,\n",
    "   0.8181818181818182,\n",
    "   0.8161616161616162,\n",
    "   0.8141414141414142,\n",
    "   0.8121212121212121,\n",
    "   0.8161616161616162],\n",
    "  'hard': [0.8222222222222222,\n",
    "   0.8242424242424242,\n",
    "   0.8161616161616162,\n",
    "   0.8101010101010101,\n",
    "   0.8161616161616162,\n",
    "   0.8161616161616162,\n",
    "   0.8222222222222222]}}"
   ]
  },
  {
   "cell_type": "code",
   "execution_count": 4,
   "id": "42154019",
   "metadata": {},
   "outputs": [
    {
     "ename": "TypeError",
     "evalue": "file must have 'read' and 'readline' attributes",
     "output_type": "error",
     "traceback": [
      "\u001b[0;31m---------------------------------------------------------------------------\u001b[0m",
      "\u001b[0;31mTypeError\u001b[0m                                 Traceback (most recent call last)",
      "\u001b[0;32m<ipython-input-4-61bb8ae356c0>\u001b[0m in \u001b[0;36m<module>\u001b[0;34m\u001b[0m\n\u001b[1;32m      1\u001b[0m \u001b[0;32mimport\u001b[0m \u001b[0mpickle\u001b[0m\u001b[0;34m\u001b[0m\u001b[0;34m\u001b[0m\u001b[0m\n\u001b[1;32m      2\u001b[0m \u001b[0;32mwith\u001b[0m \u001b[0mopen\u001b[0m\u001b[0;34m(\u001b[0m\u001b[0;34m'rot_acc.pkl'\u001b[0m\u001b[0;34m,\u001b[0m \u001b[0;34m'wb'\u001b[0m\u001b[0;34m)\u001b[0m \u001b[0;32mas\u001b[0m \u001b[0mhandle\u001b[0m\u001b[0;34m:\u001b[0m\u001b[0;34m\u001b[0m\u001b[0;34m\u001b[0m\u001b[0m\n\u001b[0;32m----> 3\u001b[0;31m     \u001b[0macc\u001b[0m \u001b[0;34m=\u001b[0m \u001b[0mpickle\u001b[0m\u001b[0;34m.\u001b[0m\u001b[0mload\u001b[0m\u001b[0;34m(\u001b[0m\u001b[0;34m'rot_acc.pkl'\u001b[0m\u001b[0;34m)\u001b[0m\u001b[0;34m\u001b[0m\u001b[0;34m\u001b[0m\u001b[0m\n\u001b[0m",
      "\u001b[0;31mTypeError\u001b[0m: file must have 'read' and 'readline' attributes"
     ]
    }
   ],
   "source": [
    "import pickle\n",
    "with open('rot_acc.pkl', 'wb') as handle:\n",
    "    acc = pickle.load('rot_acc.pkl')"
   ]
  }
 ],
 "metadata": {
  "kernelspec": {
   "display_name": "Python 3 (ipykernel)",
   "language": "python",
   "name": "python3"
  },
  "language_info": {
   "codemirror_mode": {
    "name": "ipython",
    "version": 3
   },
   "file_extension": ".py",
   "mimetype": "text/x-python",
   "name": "python",
   "nbconvert_exporter": "python",
   "pygments_lexer": "ipython3",
   "version": "3.8.3"
  }
 },
 "nbformat": 4,
 "nbformat_minor": 5
}
