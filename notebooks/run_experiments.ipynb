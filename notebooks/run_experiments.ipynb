{
 "cells": [
  {
   "cell_type": "code",
   "execution_count": null,
   "id": "4bc6ca09",
   "metadata": {},
   "outputs": [],
   "source": [
    "import os\n",
    "import sys\n",
    "import copy\n",
    "pdir = os.path.dirname(os.getcwd())\n",
    "sys.path.append(pdir)\n",
    "\n",
    "import utils\n",
    "\n",
    "model_dir = 'models'\n",
    "data_dir = 'tree_points.pt'"
   ]
  },
  {
   "cell_type": "code",
   "execution_count": null,
   "id": "3117d665",
   "metadata": {},
   "outputs": [],
   "source": [
    "params_list = []\n",
    "\n",
    "params_list.append({\n",
    "    \"dataset_type\":type(trees_data),\n",
    "    \"batch_size\":128,\n",
    "    \"validation_split\":.2,\n",
    "    \"shuffle_dataset\":True,\n",
    "    \"random_seed\":0,\n",
    "    \"learning_rate\":[0.0005, 100, 0.5],  #[init, step_size, gamma] for scheduler\n",
    "    \"momentum\":0.9, #Only used for sgd\n",
    "    \"epochs\":300,\n",
    "    \"loss_fn\":\"cross-entropy\",\n",
    "    \"optimizer\":\"adam\",\n",
    "    \"voting\":\"None\",\n",
    "    \"train_sampler\":\"balanced\",\n",
    "\n",
    "    \"model\":\"SimpleView\",\n",
    "\n",
    "    \"image_dim\":256,\n",
    "    \"camera_fov_deg\":90,\n",
    "    \"f\":1,\n",
    "    \"camera_dist\":1.4,\n",
    "    \"depth_averaging\":\"min\",\n",
    "    \"soft_min_k\":50,\n",
    "    \"num_views\":6,\n",
    "\n",
    "    \"transforms\":['rotation','translation','jitter'], #,'translation'\n",
    "    \"min_rotation\":0,\n",
    "    \"max_rotation\":2*np.pi,\n",
    "    \"min_translation\":0,\n",
    "    \"max_translation\":0.5,\n",
    "    \"jitter_std\":3e-4, \n",
    "\n",
    "    \"species\":[\"QUEFAG\", \"PINNIG\", \"QUEILE\", \"PINSYL\", \"PINPIN\"],\n",
    "    \"data_resolution\":\"2.5cm\"\n",
    "})"
   ]
  },
  {
   "cell_type": "code",
   "execution_count": null,
   "id": "3e4052d4",
   "metadata": {},
   "outputs": [],
   "source": [
    "for params in params_list:\n",
    "    utils.train(data_dir=data_dir, model_dir=model_dir, params=params)"
   ]
  }
 ],
 "metadata": {
  "kernelspec": {
   "display_name": "Python 3",
   "language": "python",
   "name": "python3"
  },
  "language_info": {
   "codemirror_mode": {
    "name": "ipython",
    "version": 3
   },
   "file_extension": ".py",
   "mimetype": "text/x-python",
   "name": "python",
   "nbconvert_exporter": "python",
   "pygments_lexer": "ipython3",
   "version": "3.8.5"
  }
 },
 "nbformat": 4,
 "nbformat_minor": 5
}
