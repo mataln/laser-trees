{
 "cells": [
  {
   "cell_type": "code",
   "execution_count": 1,
   "id": "7d8b0f29",
   "metadata": {},
   "outputs": [],
   "source": [
    "import os\n",
    "import sys\n",
    "import copy\n",
    "pdir = os.path.dirname(os.getcwd())\n",
    "sys.path.append(pdir)\n",
    "\n",
    "import torch\n",
    "import numpy as np\n",
    "\n",
    "import utils\n",
    "\n",
    "model_dir = 'models'\n",
    "data_dir = 'tree_points.pt'"
   ]
  },
  {
   "cell_type": "code",
   "execution_count": 2,
   "id": "fe9f4caa",
   "metadata": {},
   "outputs": [],
   "source": [
    "trees_data = torch.load(data_dir)"
   ]
  },
  {
   "cell_type": "code",
   "execution_count": 3,
   "id": "e4dc1f92",
   "metadata": {},
   "outputs": [],
   "source": [
    "params_list = []\n",
    "\n",
    "params_list.append({\n",
    "    \"dataset_type\":type(trees_data),\n",
    "    \"batch_size\":128,\n",
    "    \"validation_split\":.2,\n",
    "    \"shuffle_dataset\":True,\n",
    "    \"random_seed\":0,\n",
    "    \"learning_rate\":[0.0005, 100, 0.5],  #[init, step_size, gamma] for scheduler\n",
    "    \"momentum\":0.9, #Only used for sgd\n",
    "    \"epochs\":300,\n",
    "    \"loss_fn\":\"smooth-loss\",\n",
    "    \"optimizer\":\"adam\",\n",
    "    \"voting\":\"None\",\n",
    "    \"train_sampler\":\"balanced\",\n",
    "\n",
    "    \"model\":\"SimpleView\",\n",
    "\n",
    "    \"image_dim\":256,\n",
    "    \"camera_fov_deg\":90,\n",
    "    \"f\":1,\n",
    "    \"camera_dist\":1.4,\n",
    "    \"depth_averaging\":\"min\",\n",
    "    \"soft_min_k\":50,\n",
    "    \"num_views\":6,\n",
    "\n",
    "    \"transforms\":['rotation','jitter'], #,'translation'\n",
    "    \"min_rotation\":0,\n",
    "    \"max_rotation\":2*np.pi,\n",
    "    \"min_translation\":0,\n",
    "    \"max_translation\":0,\n",
    "    \"jitter_std\":3e-4, \n",
    "\n",
    "    \"species\":[\"QUEFAG\", \"PINNIG\", \"QUEILE\", \"PINSYL\", \"PINPIN\"],\n",
    "    \"data_resolution\":\"2.5cm\"\n",
    "})"
   ]
  },
  {
   "cell_type": "code",
   "execution_count": 4,
   "id": "c4a47abd",
   "metadata": {},
   "outputs": [
    {
     "name": "stderr",
     "output_type": "stream",
     "text": [
      "\u001b[34m\u001b[1mwandb\u001b[0m: Currently logged in as: \u001b[33mmja2106\u001b[0m (use `wandb login --relogin` to force relogin)\n"
     ]
    },
    {
     "name": "stdout",
     "output_type": "stream",
     "text": [
      "QUEFAG     1116\n",
      "PINNIG      581\n",
      "QUEILE      364\n",
      "PINSYL      277\n",
      "PINPIN      140\n",
      "NA            2\n",
      "JUNIPE        2\n",
      "QUERCUS       2\n",
      "DEAD          1\n",
      "Name: sp, dtype: int64\n",
      "Species:  ['DEAD', 'JUNIPE', 'NA', 'PINNIG', 'PINPIN', 'PINSYL', 'QUEFAG', 'QUEILE', 'QUERCUS']\n",
      "Labels:  tensor([8, 3, 6,  ..., 7, 3, 6])\n",
      "Total count:  2485\n"
     ]
    },
    {
     "name": "stderr",
     "output_type": "stream",
     "text": [
      "\u001b[34m\u001b[1mwandb\u001b[0m: wandb version 0.10.31 is available!  To upgrade, please run:\n",
      "\u001b[34m\u001b[1mwandb\u001b[0m:  $ pip install wandb --upgrade\n"
     ]
    },
    {
     "data": {
      "text/html": [
       "\n",
       "                Tracking run with wandb version 0.10.15<br/>\n",
       "                Syncing run <strong style=\"color:#cdcd00\">whole-monkey-101</strong> to <a href=\"https://wandb.ai\" target=\"_blank\">Weights & Biases</a> <a href=\"https://docs.wandb.com/integrations/jupyter.html\" target=\"_blank\">(Documentation)</a>.<br/>\n",
       "                Project page: <a href=\"https://wandb.ai/mja2106/laser-trees\" target=\"_blank\">https://wandb.ai/mja2106/laser-trees</a><br/>\n",
       "                Run page: <a href=\"https://wandb.ai/mja2106/laser-trees/runs/2cdu71v9\" target=\"_blank\">https://wandb.ai/mja2106/laser-trees/runs/2cdu71v9</a><br/>\n",
       "                Run data is saved locally in <code>/home/matt/Work/MRes-Project/laser-trees/notebooks/wandb/run-20210602_234005-2cdu71v9</code><br/><br/>\n",
       "            "
      ],
      "text/plain": [
       "<IPython.core.display.HTML object>"
      ]
     },
     "metadata": {},
     "output_type": "display_data"
    },
    {
     "name": "stdout",
     "output_type": "stream",
     "text": [
      "Removing: QUERCUS\n",
      "Removing: DEAD\n",
      "Removing: JUNIPE\n",
      "Removing: NA\n",
      "Train Dataset:\n",
      "QUEFAG    1116\n",
      "PINNIG     581\n",
      "QUEILE     364\n",
      "PINSYL     277\n",
      "PINPIN     140\n",
      "Name: sp, dtype: int64\n",
      "Species:  ['PINNIG', 'PINPIN', 'PINSYL', 'QUEFAG', 'QUEILE']\n",
      "Labels:  tensor([0, 3, 3,  ..., 4, 0, 3])\n",
      "Total count:  2478\n",
      "\n",
      "Validation Dataset (should match):\n",
      "QUEFAG    1116\n",
      "PINNIG     581\n",
      "QUEILE     364\n",
      "PINSYL     277\n",
      "PINPIN     140\n",
      "Name: sp, dtype: int64\n",
      "Species:  ['PINNIG', 'PINPIN', 'PINSYL', 'QUEFAG', 'QUEILE']\n",
      "Labels:  tensor([0, 3, 3,  ..., 4, 0, 3])\n",
      "Total count:  2478\n",
      "\n",
      "Shuffling dataset...\n",
      "Using balanced sampling...\n",
      "Using smooth-loss\n",
      "Optimizing with AdaM...\n",
      "Using step LR scheduler...\n",
      "[1,     5] loss: 3.839\n",
      "[1,    10] loss: 3.751\n",
      "[1,    15] loss: 3.754\n",
      "[1,    20] loss: 3.701\n",
      "OVERALL: Got 42 / 495 with accuracy 8.48\n",
      "PINNIG: Got 0/129 with accuracy 0.00\n",
      "PINPIN: Got 0/33 with accuracy 0.00\n",
      "PINSYL: Got 42/42 with accuracy 100.00\n",
      "QUEFAG: Got 0/231 with accuracy 0.00\n",
      "QUEILE: Got 0/60 with accuracy 0.00\n",
      "[2,     5] loss: 3.630\n",
      "[2,    10] loss: 3.668\n",
      "[2,    15] loss: 3.509\n",
      "[2,    20] loss: 3.455\n",
      "OVERALL: Got 91 / 495 with accuracy 18.38\n",
      "PINNIG: Got 49/129 with accuracy 37.98\n",
      "PINPIN: Got 6/33 with accuracy 18.18\n",
      "PINSYL: Got 26/42 with accuracy 61.90\n",
      "QUEFAG: Got 0/231 with accuracy 0.00\n",
      "QUEILE: Got 10/60 with accuracy 16.67\n",
      "[3,     5] loss: 3.442\n",
      "[3,    10] loss: 3.423\n",
      "[3,    15] loss: 3.360\n",
      "[3,    20] loss: 3.325\n",
      "OVERALL: Got 182 / 495 with accuracy 36.77\n",
      "PINNIG: Got 76/129 with accuracy 58.91\n",
      "PINPIN: Got 15/33 with accuracy 45.45\n",
      "PINSYL: Got 14/42 with accuracy 33.33\n",
      "QUEFAG: Got 43/231 with accuracy 18.61\n",
      "QUEILE: Got 34/60 with accuracy 56.67\n",
      "[4,     5] loss: 3.228\n",
      "[4,    10] loss: 3.254\n",
      "[4,    15] loss: 3.321\n",
      "[4,    20] loss: 3.264\n",
      "OVERALL: Got 166 / 495 with accuracy 33.54\n",
      "PINNIG: Got 104/129 with accuracy 80.62\n",
      "PINPIN: Got 0/33 with accuracy 0.00\n",
      "PINSYL: Got 6/42 with accuracy 14.29\n",
      "QUEFAG: Got 1/231 with accuracy 0.43\n",
      "QUEILE: Got 55/60 with accuracy 91.67\n"
     ]
    },
    {
     "ename": "NameError",
     "evalue": "name 'best' is not defined",
     "output_type": "error",
     "traceback": [
      "\u001b[0;31m---------------------------------------------------------------------------\u001b[0m",
      "\u001b[0;31mNameError\u001b[0m                                 Traceback (most recent call last)",
      "\u001b[0;32m<ipython-input-4-3678112857d6>\u001b[0m in \u001b[0;36m<module>\u001b[0;34m\u001b[0m\n\u001b[1;32m      1\u001b[0m \u001b[0;32mfor\u001b[0m \u001b[0mparams\u001b[0m \u001b[0;32min\u001b[0m \u001b[0mparams_list\u001b[0m\u001b[0;34m:\u001b[0m\u001b[0;34m\u001b[0m\u001b[0;34m\u001b[0m\u001b[0m\n\u001b[0;32m----> 2\u001b[0;31m     \u001b[0mutils\u001b[0m\u001b[0;34m.\u001b[0m\u001b[0mtrain\u001b[0m\u001b[0;34m(\u001b[0m\u001b[0mdata_dir\u001b[0m\u001b[0;34m=\u001b[0m\u001b[0mdata_dir\u001b[0m\u001b[0;34m,\u001b[0m \u001b[0mmodel_dir\u001b[0m\u001b[0;34m=\u001b[0m\u001b[0mmodel_dir\u001b[0m\u001b[0;34m,\u001b[0m \u001b[0mparams\u001b[0m\u001b[0;34m=\u001b[0m\u001b[0mparams\u001b[0m\u001b[0;34m)\u001b[0m\u001b[0;34m\u001b[0m\u001b[0;34m\u001b[0m\u001b[0m\n\u001b[0m",
      "\u001b[0;32m~/Work/MRes-Project/laser-trees/utils/train.py\u001b[0m in \u001b[0;36mtrain\u001b[0;34m(data_dir, model_dir, params)\u001b[0m\n\u001b[1;32m    287\u001b[0m                 \u001b[0mbest_acc\u001b[0m \u001b[0;34m=\u001b[0m \u001b[0mval_acc\u001b[0m\u001b[0;34m\u001b[0m\u001b[0;34m\u001b[0m\u001b[0m\n\u001b[1;32m    288\u001b[0m \u001b[0;34m\u001b[0m\u001b[0m\n\u001b[0;32m--> 289\u001b[0;31m             \u001b[0;32mif\u001b[0m \u001b[0mmin\u001b[0m\u001b[0;34m(\u001b[0m\u001b[0maccs\u001b[0m\u001b[0;34m)\u001b[0m \u001b[0;34m>=\u001b[0m \u001b[0mbest_min_acc\u001b[0m \u001b[0;32mor\u001b[0m \u001b[0mbest\u001b[0m\u001b[0;34m:\u001b[0m\u001b[0;34m\u001b[0m\u001b[0;34m\u001b[0m\u001b[0m\n\u001b[0m\u001b[1;32m    290\u001b[0m                 \u001b[0mbest_min_model_state\u001b[0m \u001b[0;34m=\u001b[0m \u001b[0mcopy\u001b[0m\u001b[0;34m.\u001b[0m\u001b[0mdeepcopy\u001b[0m\u001b[0;34m(\u001b[0m\u001b[0mmodel\u001b[0m\u001b[0;34m.\u001b[0m\u001b[0mstate_dict\u001b[0m\u001b[0;34m(\u001b[0m\u001b[0;34m)\u001b[0m\u001b[0;34m)\u001b[0m\u001b[0;34m\u001b[0m\u001b[0;34m\u001b[0m\u001b[0m\n\u001b[1;32m    291\u001b[0m                 \u001b[0mbest_min_acc\u001b[0m \u001b[0;34m=\u001b[0m \u001b[0mmin\u001b[0m\u001b[0;34m(\u001b[0m\u001b[0maccs\u001b[0m\u001b[0;34m)\u001b[0m\u001b[0;34m\u001b[0m\u001b[0;34m\u001b[0m\u001b[0m\n",
      "\u001b[0;31mNameError\u001b[0m: name 'best' is not defined"
     ]
    }
   ],
   "source": [
    "for params in params_list:\n",
    "    utils.train(data_dir=data_dir, model_dir=model_dir, params=params)"
   ]
  },
  {
   "cell_type": "code",
   "execution_count": null,
   "id": "d0a50839",
   "metadata": {},
   "outputs": [],
   "source": []
  }
 ],
 "metadata": {
  "kernelspec": {
   "display_name": "Python 3",
   "language": "python",
   "name": "python3"
  },
  "language_info": {
   "codemirror_mode": {
    "name": "ipython",
    "version": 3
   },
   "file_extension": ".py",
   "mimetype": "text/x-python",
   "name": "python",
   "nbconvert_exporter": "python",
   "pygments_lexer": "ipython3",
   "version": "3.8.5"
  }
 },
 "nbformat": 4,
 "nbformat_minor": 5
}
