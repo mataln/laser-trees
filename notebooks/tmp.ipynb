{
 "cells": [
  {
   "cell_type": "code",
   "execution_count": 2,
   "id": "a5467cea",
   "metadata": {},
   "outputs": [],
   "source": [
    "import pandas as pd\n",
    "import wandb\n",
    "\n",
    "import seaborn as sns"
   ]
  },
  {
   "cell_type": "code",
   "execution_count": 3,
   "id": "99b0909b",
   "metadata": {},
   "outputs": [],
   "source": [
    "df = pd.read_csv('../data/treesXYZ/meta/META.csv')"
   ]
  },
  {
   "cell_type": "code",
   "execution_count": 4,
   "id": "53ce9916",
   "metadata": {},
   "outputs": [
    {
     "name": "stdout",
     "output_type": "stream",
     "text": [
      "0\n",
      "1\n",
      "0\n"
     ]
    }
   ],
   "source": [
    "sp = 'DEAD'\n",
    "print(df[(df['sp']==sp) & (df['multistem']==1)].shape[0])\n",
    "print(df[(df['sp']==sp) & (df['dead']==1)].shape[0])\n",
    "print(df[(df['sp']==sp) & (df['out_of_bounds']==0)].shape[0])"
   ]
  },
  {
   "cell_type": "code",
   "execution_count": 5,
   "id": "10514a4a",
   "metadata": {},
   "outputs": [
    {
     "name": "stderr",
     "output_type": "stream",
     "text": [
      "\u001b[34m\u001b[1mwandb\u001b[0m: Currently logged in as: \u001b[33mmja2106\u001b[0m (use `wandb login --relogin` to force relogin)\n"
     ]
    },
    {
     "data": {
      "text/plain": [
       "True"
      ]
     },
     "execution_count": 5,
     "metadata": {},
     "output_type": "execute_result"
    }
   ],
   "source": [
    "wandb.login()"
   ]
  },
  {
   "cell_type": "code",
   "execution_count": 43,
   "id": "e09a6e0e",
   "metadata": {},
   "outputs": [],
   "source": [
    "def get_metrics_from_wandb(run_id):\n",
    "    api = wandb.Api()\n",
    "    run = api.run(f\"mja2106/laser-trees/{run_id}\")\n",
    "    \n",
    "    for x in run.config:\n",
    "        print(f\"{x}: {run.config[x]}\")\n",
    "        \n",
    "    print(\"  \")\n",
    "    \n",
    "    best_accuracy = run.history()[\"Validation Accuracy\"].max()\n",
    "    converged_accuracy = run.history()[\"Validation Accuracy\"].values[-1]\n",
    "    print(f\"Best validation accuracy: {best_accuracy}\")\n",
    "    print(f\"Converged accuracy: {converged_accuracy}\")\n",
    "          \n",
    "    min_prod_acc = run.history()[[\"PINNIG Accuracy\", \"PINPIN Accuracy\", \"QUEFAG Accuracy\", \"PINSYL Accuracy\"]].min(axis=1)\n",
    "    best_min_prod_acc = min_prod_acc.max()\n",
    "    print(f\"Best minimum producer accuracy: {best_min_prod_acc}\")\n",
    "    \n",
    "    \n",
    "    return run"
   ]
  },
  {
   "cell_type": "code",
   "execution_count": 226,
   "id": "fceaa611",
   "metadata": {},
   "outputs": [
    {
     "name": "stdout",
     "output_type": "stream",
     "text": [
      "f: 1\n",
      "model: SimpleView\n",
      "epochs: 300\n",
      "voting: None\n",
      "loss_fn: cross-entropy\n",
      "species: ['QUEFAG', 'PINNIG', 'QUEILE', 'PINSYL', 'PINPIN']\n",
      "momentum: 0.9\n",
      "image_dim: 256\n",
      "num_views: 6\n",
      "optimizer: adam\n",
      "batch_size: 128\n",
      "jitter_std: 0.003\n",
      "soft_min_k: 50\n",
      "transforms: ['rotation', 'translation', 'jitter']\n",
      "camera_dist: 1.4\n",
      "random_seed: 0\n",
      "dataset_type: utils.dataset.TreeSpeciesPointDataset\n",
      "max_rotation: 6.283185307179586\n",
      "min_rotation: 0\n",
      "learning_rate: [0.0005, 100, 0.5]\n",
      "train_sampler: balanced\n",
      "camera_fov_deg: 90\n",
      "data_resolution: 2.5cm\n",
      "depth_averaging: min\n",
      "max_translation: 0.5\n",
      "min_translation: 0\n",
      "shuffle_dataset: True\n",
      "validation_split: 0.2\n",
      "  \n",
      "Best validation accuracy: 0.7777777777777778\n",
      "Converged accuracy: 0.7090909090909091\n",
      "Best minimum producer accuracy: 0.5581395348837209\n"
     ]
    }
   ],
   "source": [
    "run = get_metrics_from_wandb(\"3q95jgy7\")"
   ]
  },
  {
   "cell_type": "code",
   "execution_count": 218,
   "id": "83730703",
   "metadata": {},
   "outputs": [
    {
     "name": "stdout",
     "output_type": "stream",
     "text": [
      "<class 'matplotlib.lines.Line2D'>\n",
      "<class 'matplotlib.lines.Line2D'>\n",
      "<class 'matplotlib.lines.Line2D'>\n",
      "<class 'matplotlib.lines.Line2D'>\n",
      "<class 'matplotlib.lines.Line2D'>\n",
      "<class 'matplotlib.lines.Line2D'>\n"
     ]
    },
    {
     "data": {
      "text/plain": [
       "Text(0.5, 1.0, 'Best Accuracy Metrics vs. $T$')"
      ]
     },
     "execution_count": 218,
     "metadata": {},
     "output_type": "execute_result"
    },
    {
     "data": {
      "image/png": "[encoded data removed]",
      "text/plain": [
       "<Figure size 432x288 with 1 Axes>"
      ]
     },
     "metadata": {
      "needs_background": "light"
     },
     "output_type": "display_data"
    }
   ],
   "source": [
    "#Translation\n",
    "T = [0, 0.1, 0.2, 0.5, 1]\n",
    "\n",
    "table_data = {}\n",
    "table_data[\"x-entropy\"] = [0.752, 0.675, 0.500, 0.792, 0.780, 0.567, 0.812, 0.780, 0.597, 0.830, 0.788, 0.643, 0.804, 0.796, 0.636]\n",
    "table_data[\"smooth-loss\"] = [0.767, 0.719, 0.424, 0.790, 0.786, 0.527, 0.818, 0.760, 0.595, 0.814, 0.776, 0.636, 0.792, 0.766, 0.620]\n",
    "\n",
    "\n",
    "for loss_fn in [\"x-entropy\",\"smooth-loss\"]:\n",
    "    for i, metric in enumerate([\"best\",\"conv\",\"prod\"]):\n",
    "        key = f\"{loss_fn}-{metric}\"\n",
    "        translation_data[key] = table_data[loss_fn][i::3]\n",
    "\n",
    "df = pd.DataFrame.from_dict(translation_data)\n",
    "\n",
    "df = df.set_index(\"T\")\n",
    "\n",
    "markers=['o','o','o','P','P','P']\n",
    "hue=['r','orange','b','r','orange','b']\n",
    "linestyles=['-','--','-.','-','--','-.']\n",
    "\n",
    "ax = df.plot(color=hue)\n",
    "\n",
    "for i, line in enumerate(ax.get_lines()):\n",
    "    line.set_marker(markers[i])\n",
    "    line.set_linestyle(linestyles[i])\n",
    "    print(type(line))\n",
    "    \n",
    "axFont = 14 \n",
    "tFont = 16\n",
    "ax.set_ylabel('Accuracy', size=axFont)\n",
    "ax.set_xlabel('$T$', size=axFont)\n",
    "ax.set_title('Best Accuracy Metrics vs. $T$', size=tFont)"
   ]
  },
  {
   "cell_type": "code",
   "execution_count": null,
   "id": "b5ff28fe",
   "metadata": {},
   "outputs": [],
   "source": []
  },
  {
   "cell_type": "code",
   "execution_count": null,
   "id": "187d0ccc",
   "metadata": {},
   "outputs": [],
   "source": []
  }
 ],
 "metadata": {
  "kernelspec": {
   "display_name": "Python 3",
   "language": "python",
   "name": "python3"
  },
  "language_info": {
   "codemirror_mode": {
    "name": "ipython",
    "version": 3
   },
   "file_extension": ".py",
   "mimetype": "text/x-python",
   "name": "python",
   "nbconvert_exporter": "python",
   "pygments_lexer": "ipython3",
   "version": "3.8.5"
  }
 },
 "nbformat": 4,
 "nbformat_minor": 5
}
